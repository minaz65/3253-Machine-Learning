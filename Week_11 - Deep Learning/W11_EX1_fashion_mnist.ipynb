{
  "nbformat": 4,
  "nbformat_minor": 0,
  "metadata": {
    "kernelspec": {
      "display_name": "Environment (conda_tensorflow2)",
      "language": "python",
      "name": "conda_tensorflow2"
    },
    "language_info": {
      "codemirror_mode": {
        "name": "ipython",
        "version": 3
      },
      "file_extension": ".py",
      "mimetype": "text/x-python",
      "name": "python",
      "nbconvert_exporter": "python",
      "pygments_lexer": "ipython3",
      "version": "3.6.9"
    },
    "colab": {
      "name": "W11_EX1_fashion_mnist.ipynb",
      "provenance": []
    }
  },
  "cells": [
    {
      "cell_type": "markdown",
      "metadata": {
        "id": "bP0mz4DPFzQC"
      },
      "source": [
        "# Exercise Objective:\n",
        "\n",
        "Build an image classifier in Keras that detects fashion items from low res images. The training set contains 60,000 grayscale images, each 28x28 pixels. There are 10 classes, all different clothes items.\n",
        "\n",
        "In this work, you need to:\n",
        "\n",
        "__Exercise 1__\n",
        "1. Train a sequential, fully connected neural net to classify the clothes.\n",
        "2. Assess the performance.\n",
        "\n",
        "__Exercise 2__\n",
        "3. Train a sequential, convolutional neural net to classify the clothes.\n",
        "4. Compare the performance."
      ]
    },
    {
      "cell_type": "code",
      "metadata": {
        "id": "HaPIjKwkFzQD"
      },
      "source": [
        "import numpy as np\n",
        "import pandas as pd\n",
        "import matplotlib.pyplot as plt\n",
        "\n",
        "import tensorflow as tf\n",
        "from tensorflow import keras\n",
        "\n",
        "np.random.seed(42)\n",
        "tf.random.set_seed(42)"
      ],
      "execution_count": null,
      "outputs": []
    },
    {
      "cell_type": "markdown",
      "metadata": {
        "id": "rejVxys8FzQH"
      },
      "source": [
        "Let's start by loading the fashion mnist dataset as we did back in week 9."
      ]
    },
    {
      "cell_type": "code",
      "metadata": {
        "id": "sU4bsPw_FzQH",
        "colab": {
          "base_uri": "https://localhost:8080/",
          "height": 176
        },
        "outputId": "2c7dee35-f077-444d-a46d-f67fc9ff0b3d"
      },
      "source": [
        "fashion_mnist = keras.datasets.fashion_mnist\n",
        "(X_train_full, y_train_full), (X_test, y_test) = fashion_mnist.load_data()"
      ],
      "execution_count": null,
      "outputs": [
        {
          "output_type": "stream",
          "text": [
            "Downloading data from https://storage.googleapis.com/tensorflow/tf-keras-datasets/train-labels-idx1-ubyte.gz\n",
            "32768/29515 [=================================] - 0s 0us/step\n",
            "Downloading data from https://storage.googleapis.com/tensorflow/tf-keras-datasets/train-images-idx3-ubyte.gz\n",
            "26427392/26421880 [==============================] - 0s 0us/step\n",
            "Downloading data from https://storage.googleapis.com/tensorflow/tf-keras-datasets/t10k-labels-idx1-ubyte.gz\n",
            "8192/5148 [===============================================] - 0s 0us/step\n",
            "Downloading data from https://storage.googleapis.com/tensorflow/tf-keras-datasets/t10k-images-idx3-ubyte.gz\n",
            "4423680/4422102 [==============================] - 0s 0us/step\n"
          ],
          "name": "stdout"
        }
      ]
    },
    {
      "cell_type": "markdown",
      "metadata": {
        "id": "G4Iy8A3zFzQK"
      },
      "source": [
        "Let's make sure the input pixel data is float64. We'll also split off some validation data."
      ]
    },
    {
      "cell_type": "code",
      "metadata": {
        "id": "0LruwzuxFzQL"
      },
      "source": [
        "X_valid, X_train = X_train_full[:5000] / 255., X_train_full[5000:] / 255.\n",
        "y_valid, y_train = y_train_full[:5000], y_train_full[5000:]\n",
        "X_test = X_test / 255."
      ],
      "execution_count": null,
      "outputs": []
    },
    {
      "cell_type": "code",
      "metadata": {
        "id": "Ydd1QiE9FzQO",
        "colab": {
          "base_uri": "https://localhost:8080/",
          "height": 35
        },
        "outputId": "185bb39e-786e-4ea1-ccf2-c0c19e2c994f"
      },
      "source": [
        "X_train.dtype"
      ],
      "execution_count": null,
      "outputs": [
        {
          "output_type": "execute_result",
          "data": {
            "text/plain": [
              "dtype('float64')"
            ]
          },
          "metadata": {
            "tags": []
          },
          "execution_count": 4
        }
      ]
    },
    {
      "cell_type": "code",
      "metadata": {
        "id": "G3UakPwXFzQQ"
      },
      "source": [
        "class_names = [\"T-shirt/top\", \"Trouser\", \"Pullover\", \"Dress\", \"Coat\",\n",
        "               \"Sandal\", \"Shirt\", \"Sneaker\", \"Bag\", \"Ankle boot\"]"
      ],
      "execution_count": null,
      "outputs": []
    },
    {
      "cell_type": "markdown",
      "metadata": {
        "id": "6VeneTsHFzQT"
      },
      "source": [
        "Let's see what the data looks like. Rerun to see more examples."
      ]
    },
    {
      "cell_type": "code",
      "metadata": {
        "id": "zFrfb4OWFzQU",
        "colab": {
          "base_uri": "https://localhost:8080/",
          "height": 270
        },
        "outputId": "3ff990bd-e214-4f07-b373-fcebccd47de9"
      },
      "source": [
        "rand_idx = np.random.choice(range(X_train.shape[0]))\n",
        "plt.imshow(X_train[rand_idx], cmap=\"binary\")\n",
        "plt.colorbar()\n",
        "plt.axis('off')\n",
        "plt.title(class_names[y_train[rand_idx]]);"
      ],
      "execution_count": null,
      "outputs": [
        {
          "output_type": "display_data",
          "data": {
            "image/png": "[encoded data removed]",
            "text/plain": [
              "<Figure size 432x288 with 2 Axes>"
            ]
          },
          "metadata": {
            "tags": []
          }
        }
      ]
    },
    {
      "cell_type": "markdown",
      "metadata": {
        "id": "c8waNfh6FzQX"
      },
      "source": [
        "## Exercise 1\n",
        "Build the dense model."
      ]
    },
    {
      "cell_type": "code",
      "metadata": {
        "id": "pGFSlZkBFzQY"
      },
      "source": [
        "## YOUR CODE HERE ##"
      ],
      "execution_count": null,
      "outputs": []
    },
    {
      "cell_type": "code",
      "metadata": {
        "id": "eZN4ScjKFzQa"
      },
      "source": [
        "img_size = (28, 28)\n",
        "n_classes = 10"
      ],
      "execution_count": null,
      "outputs": []
    },
    {
      "cell_type": "code",
      "metadata": {
        "id": "Ft88X5Z5FzQd"
      },
      "source": [
        "from tensorflow.keras import Sequential\n",
        "from tensorflow.keras.layers import Flatten, Dense\n",
        "\n",
        "model = ## YOUR CODE HERE ##"
      ],
      "execution_count": null,
      "outputs": []
    },
    {
      "cell_type": "code",
      "metadata": {
        "scrolled": true,
        "id": "_7JCM3r7FzQf"
      },
      "source": [
        "model.summary()"
      ],
      "execution_count": null,
      "outputs": []
    },
    {
      "cell_type": "code",
      "metadata": {
        "id": "wjSTsa7MFzQi"
      },
      "source": [
        "learning_rate = 0.005\n",
        "n_epochs = 20"
      ],
      "execution_count": null,
      "outputs": []
    },
    {
      "cell_type": "code",
      "metadata": {
        "id": "O08iEigZFzQl"
      },
      "source": [
        "from tensorflow.keras.optimizers import ## YOUR CODE HERE ##\n",
        "\n",
        "optimizer = ## YOUR CODE HERE ##"
      ],
      "execution_count": null,
      "outputs": []
    },
    {
      "cell_type": "code",
      "metadata": {
        "id": "57aKCI7-FzQo"
      },
      "source": [
        "# Hint: sparse_categorical_crossentropy is a good loss fn for softmax\n",
        "model.compile(## YOUR CODE HERE ##)"
      ],
      "execution_count": null,
      "outputs": []
    },
    {
      "cell_type": "code",
      "metadata": {
        "id": "EPKU_fnIFzQq"
      },
      "source": [
        "from tensorflow.keras.callbacks import ModelCheckpoint\n",
        "\n",
        "save_cb = ModelCheckpoint(## YOUR CODE HERE ##)"
      ],
      "execution_count": null,
      "outputs": []
    },
    {
      "cell_type": "code",
      "metadata": {
        "scrolled": true,
        "id": "zhMTjIsOFzQs"
      },
      "source": [
        "history = model.fit(## YOUR CODE HERE ##)"
      ],
      "execution_count": null,
      "outputs": []
    },
    {
      "cell_type": "code",
      "metadata": {
        "id": "CQyJka3dFzQv"
      },
      "source": [
        "pd.DataFrame(history.history).plot(figsize=(8, 5))\n",
        "plt.grid(True)\n",
        "plt.gca().set_ylim(0, 1);"
      ],
      "execution_count": null,
      "outputs": []
    },
    {
      "cell_type": "markdown",
      "metadata": {
        "id": "beK9IRi5FzQy"
      },
      "source": [
        "Evaluate the model."
      ]
    },
    {
      "cell_type": "code",
      "metadata": {
        "id": "3xZwukfAFzQz"
      },
      "source": [
        "y_hat = ## YOUR CODE HERE ##"
      ],
      "execution_count": null,
      "outputs": []
    },
    {
      "cell_type": "code",
      "metadata": {
        "scrolled": false,
        "id": "ULR0QWoUFzQ1"
      },
      "source": [
        "def plot_prediction():\n",
        "    rand_idx = np.random.choice(range(X_test.shape[0]))\n",
        "    image = X_test[rand_idx].squeeze()\n",
        "    prediction = class_names[y_hat[rand_idx]]\n",
        "    actual = class_names[y_test[rand_idx]]\n",
        "\n",
        "    plt.imshow(image, cmap=\"binary\")\n",
        "    plt.axis('off')\n",
        "    plt.title(f\"Prediction: {prediction} (Actual: {actual})\")\n",
        "\n",
        "plot_prediction()"
      ],
      "execution_count": null,
      "outputs": []
    },
    {
      "cell_type": "code",
      "metadata": {
        "id": "XTZfG__LFzQ5"
      },
      "source": [
        "from sklearn.metrics import ## YOUR CODE HERE ##\n",
        "\n",
        "## YOUR CODE HERE ##"
      ],
      "execution_count": null,
      "outputs": []
    },
    {
      "cell_type": "markdown",
      "metadata": {
        "id": "romB8IznFzQ7"
      },
      "source": [
        "## Exercise 2\n",
        "\n",
        "__NOTE:__\n",
        "It is important to add a channel dimension to images going into convolutions, even if that dimension is simply 1 (greyscale). You can unsqueeze the numpy array like so:"
      ]
    },
    {
      "cell_type": "code",
      "metadata": {
        "id": "sSe5JrjmFzQ8"
      },
      "source": [
        "X_train.shape"
      ],
      "execution_count": null,
      "outputs": []
    },
    {
      "cell_type": "code",
      "metadata": {
        "id": "MuUoeR7IFzQ-"
      },
      "source": [
        "X_train = X_train[..., None]\n",
        "X_valid = X_valid[..., None]\n",
        "X_test = X_test[..., None]"
      ],
      "execution_count": null,
      "outputs": []
    },
    {
      "cell_type": "code",
      "metadata": {
        "id": "SkDtjbzQFzRA"
      },
      "source": [
        "X_train.shape"
      ],
      "execution_count": null,
      "outputs": []
    },
    {
      "cell_type": "markdown",
      "metadata": {
        "id": "SUTW3ZXLFzRC"
      },
      "source": [
        "Build the convolutional model."
      ]
    },
    {
      "cell_type": "code",
      "metadata": {
        "id": "dHcbbnZ9FzRD"
      },
      "source": [
        "## YOUR CODE HERE ##"
      ],
      "execution_count": null,
      "outputs": []
    },
    {
      "cell_type": "code",
      "metadata": {
        "id": "dUvzU5B2FzRF"
      },
      "source": [
        "img_size = (28, 28, 1)"
      ],
      "execution_count": null,
      "outputs": []
    },
    {
      "cell_type": "code",
      "metadata": {
        "id": "v9ysrKfXFzRI"
      },
      "source": [
        "from tensorflow.keras.layers import Conv2D, MaxPooling2D, Dropout\n",
        "\n",
        "model = ## YOUR CODE HERE ##"
      ],
      "execution_count": null,
      "outputs": []
    },
    {
      "cell_type": "code",
      "metadata": {
        "id": "Mhwdm6MpFzRK"
      },
      "source": [
        "model.summary()"
      ],
      "execution_count": null,
      "outputs": []
    },
    {
      "cell_type": "code",
      "metadata": {
        "id": "AMkQiswAFzRM"
      },
      "source": [
        "model.compile(## YOUR CODE HERE ##)\n",
        "\n",
        "save_cb = ModelCheckpoint(## YOUR CODE HERE ##)"
      ],
      "execution_count": null,
      "outputs": []
    },
    {
      "cell_type": "code",
      "metadata": {
        "scrolled": true,
        "id": "LCam9a8rFzRO"
      },
      "source": [
        "history = model.fit(## YOUR CODE HERE ##)"
      ],
      "execution_count": null,
      "outputs": []
    },
    {
      "cell_type": "code",
      "metadata": {
        "id": "sWvqn8JQFzRQ"
      },
      "source": [
        "pd.DataFrame(history.history).plot(figsize=(8, 5))\n",
        "plt.grid(True)\n",
        "plt.gca().set_ylim(0, 1);"
      ],
      "execution_count": null,
      "outputs": []
    },
    {
      "cell_type": "markdown",
      "metadata": {
        "id": "qRyoRdfyFzRS"
      },
      "source": [
        "Evaluate the model."
      ]
    },
    {
      "cell_type": "code",
      "metadata": {
        "id": "-bULx7rEFzRT"
      },
      "source": [
        "## YOUR CODE HERE ##"
      ],
      "execution_count": null,
      "outputs": []
    },
    {
      "cell_type": "code",
      "metadata": {
        "id": "E4zMJOavFzRV"
      },
      "source": [
        "y_hat = ## YOUR CODE HERE ##"
      ],
      "execution_count": null,
      "outputs": []
    },
    {
      "cell_type": "code",
      "metadata": {
        "id": "_fB7aLDfFzRX"
      },
      "source": [
        "plot_prediction()"
      ],
      "execution_count": null,
      "outputs": []
    },
    {
      "cell_type": "code",
      "metadata": {
        "id": "NWgT463FFzRZ"
      },
      "source": [
        "## YOUR CODE HERE ##"
      ],
      "execution_count": null,
      "outputs": []
    }
  ]
}